{
  "nbformat": 4,
  "nbformat_minor": 0,
  "metadata": {
    "colab": {
      "provenance": []
    },
    "kernelspec": {
      "name": "python3",
      "display_name": "Python 3"
    },
    "language_info": {
      "name": "python"
    }
  },
  "cells": [
    {
      "cell_type": "code",
      "execution_count": 1,
      "metadata": {
        "colab": {
          "base_uri": "https://localhost:8080/"
        },
        "id": "4WCL76ZLpfO4",
        "outputId": "0efb799d-a4f8-4509-d51d-bcc63bce71cb"
      },
      "outputs": [
        {
          "output_type": "stream",
          "name": "stdout",
          "text": [
            "Enter your input of x : 10\n",
            "Enter your input of y : 30\n",
            "Add two number =  40.0\n"
          ]
        }
      ],
      "source": [
        "x = float(input(\"Enter your input of x : \"))\n",
        "y = float(input(\"Enter your input of y : \"))\n",
        "\n",
        "sum =  x + y\n",
        "print(\"Add two number = \",sum)\n"
      ]
    }
  ]
}